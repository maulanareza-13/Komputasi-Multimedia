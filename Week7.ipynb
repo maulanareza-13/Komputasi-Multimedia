{
  "nbformat": 4,
  "nbformat_minor": 0,
  "metadata": {
    "colab": {
      "name": "Week7.ipynb",
      "provenance": [],
      "mount_file_id": "https://github.com/maulanareza-13/Komputasi-Multimedia/blob/main/Week7.ipynb",
      "authorship_tag": "ABX9TyMYPRazR9DBmb0hZMvQm9jH",
      "include_colab_link": true
    },
    "kernelspec": {
      "name": "python3",
      "display_name": "Python 3"
    },
    "language_info": {
      "name": "python"
    }
  },
  "cells": [
    {
      "cell_type": "markdown",
      "metadata": {
        "id": "view-in-github",
        "colab_type": "text"
      },
      "source": [
        "<a href=\"https://colab.research.google.com/github/maulanareza-13/Komputasi-Multimedia/blob/main/Week7.ipynb\" target=\"_parent\"><img src=\"https://colab.research.google.com/assets/colab-badge.svg\" alt=\"Open In Colab\"/></a>"
      ]
    },
    {
      "cell_type": "code",
      "metadata": {
        "id": "c2EaUHLdHqUp"
      },
      "source": [
        ""
      ],
      "execution_count": null,
      "outputs": []
    },
    {
      "cell_type": "markdown",
      "metadata": {
        "id": "xVHfElriIHrQ"
      },
      "source": [
        "1. Buatlah fungsi konvolusi menggunakan algoritma yang telah dijelaskan pada Bagian C, tanpa\n",
        "menggunakan library atau metode konvolusi dari OpenCV.\n",
        "2. Berikut merupakan langkah-langkah yang dapat dilakukan:\n",
        "a. Buat notebook baru pada google colab, dan beri nama Week7.ipynb. Simpan Salinan\n",
        "pada akun github seperti pada modul sebelumnya."
      ]
    },
    {
      "cell_type": "code",
      "metadata": {
        "id": "zr3gQLxhIIsF"
      },
      "source": [
        "import numpy as np\n",
        "import matplotlib.pyplot as plt\n",
        "import cv2 as cv\n",
        "import math\n",
        "from google.colab.patches import cv2_imshow\n",
        "from PIL import Image as im"
      ],
      "execution_count": 16,
      "outputs": []
    },
    {
      "cell_type": "markdown",
      "metadata": {
        "id": "gZ6TqeOcIXyK"
      },
      "source": [
        "c. Buatlah fungsi konvolusi. Catatan: parameter yang digunakan boleh dimodifikasi.\n",
        "Misal, hanya menggunakan parameter image dan kernel saja, atau image, kernel, dan\n",
        "padding"
      ]
    },
    {
      "cell_type": "code",
      "metadata": {
        "id": "jP82CaBfIZNL"
      },
      "source": [
        "def convolution2d(image, kernel, stride, padding):\n",
        "\n",
        "  # add paddinng\n",
        "  image = np.pad(image, padding, mode='constant', constant_values=0)\n",
        "\n",
        "  # pick img input width and height values including insertion pad\n",
        "  kernel_height, kernel_width = kernel.shape\n",
        "  padded_height, padded_width = image.shape\n",
        "\n",
        "  \"\"\"\n",
        "  Formula to find the output size using convolution:\n",
        "    [W-K+2SP/S]+1\n",
        "  W = input img size (width/height)\n",
        "  K = kernel size\n",
        "  P = padding size\n",
        "  S = stride value\n",
        "\n",
        "\n",
        "  \"\"\"\n",
        "  output_height = (padded_height - kernel_height) // stride + 1\n",
        "  output_width = (padded_width - kernel_width) // stride + 1\n",
        "\n",
        "  new_image = np.zeros((output_height, output_width)).astype(np.float32)\n",
        "\n",
        "  # convolution process\n",
        "  for y in range(0, output_height):\n",
        "    for x in range(0, output_width):\n",
        "      new_image[y][x] = np.sum(image[y * stride:y * stride + kernel_height, x * stride:x * stride + kernel_width] * kernel).astype(np.float32)"
      ],
      "execution_count": 17,
      "outputs": []
    },
    {
      "cell_type": "markdown",
      "metadata": {
        "id": "9yASzQgLIkhi"
      },
      "source": [
        "d. Load citra yang akan diproses dan ubah menjadi citra keabuan"
      ]
    },
    {
      "cell_type": "code",
      "metadata": {
        "id": "_eS8V2X6ImSC"
      },
      "source": [
        "original = cv.imread('/content/drive/MyDrive/PCVK/images/mandrill.tiff')\n",
        "img = cv.resize(original, (0,0), fx=0.5, fy=0.5) \n",
        "img_gray = cv.cvtColor(img, cv.COLOR_BGR2GRAY)"
      ],
      "execution_count": 18,
      "outputs": []
    },
    {
      "cell_type": "markdown",
      "metadata": {
        "id": "0mxyOheHaqc4"
      },
      "source": [
        "e. Tentukan kernel yang akan digunakan, contohnya kernel untuk filter sharpening sebagai berikut:"
      ]
    },
    {
      "cell_type": "code",
      "metadata": {
        "id": "KCw8IyOoatK_",
        "outputId": "e9226e5d-8ffe-4e60-91eb-6322b497f230",
        "colab": {
          "base_uri": "https://localhost:8080/",
          "height": 132
        }
      },
      "source": [
        "# image sharpen\n",
        "kernal_sharpen = np.array([[0,-1,0],\n",
        "                           [-1,5,-1],\n",
        "                           [0,-1,0]])\n",
        "# emboss\n",
        "kernal_emboss = np.array([[-2,-1,0],\n",
        "                          [-1,1,1],\n",
        "                          [0,1,2]])\n",
        "\n",
        "\n",
        "# left sobel edge detection\n",
        "kernal_sobel = np.array([[1,0,-1],\n",
        "                         [2,0,-2],\n",
        "                         [1,0,-1]])\n",
        "\n",
        "\n",
        "# canny edge detection\n",
        "kernal_canny = np.array([[-1,-1,-1],\n",
        "                         [-1,8,-1],\n",
        "                         [-1,-1,-1]])\n",
        "\n",
        "\n",
        "cv2_imshow(convolution2d(img_gray,kernal_sharpen,1,2)))"
      ],
      "execution_count": 19,
      "outputs": [
        {
          "output_type": "error",
          "ename": "SyntaxError",
          "evalue": "ignored",
          "traceback": [
            "\u001b[0;36m  File \u001b[0;32m\"<ipython-input-19-d98869e2d976>\"\u001b[0;36m, line \u001b[0;32m23\u001b[0m\n\u001b[0;31m    cv2_imshow(convolution2d(img_gray,kernal_sharpen,1,2)))\u001b[0m\n\u001b[0m                                                          ^\u001b[0m\n\u001b[0;31mSyntaxError\u001b[0m\u001b[0;31m:\u001b[0m invalid syntax\n"
          ]
        }
      ]
    },
    {
      "cell_type": "markdown",
      "metadata": {
        "id": "NLE__5Cgb3Lz"
      },
      "source": [
        "f. Memanggil fungsi konvolusi yang telah dibuat sebelumnya, dan menampilkan hasil konvolusinya:"
      ]
    },
    {
      "cell_type": "code",
      "metadata": {
        "id": "DZS3YboOb3vV",
        "outputId": "4252e181-4a43-4fd6-a332-149c4409687e",
        "colab": {
          "base_uri": "https://localhost:8080/",
          "height": 363
        }
      },
      "source": [
        "cv2_imshow(convolution2d(img_gray,kernal_emboss,1,2))\n",
        "cv2_imshow(convolution2d(img_gray,kernal_sobel,1,2))\n",
        "cv2_imshow(convolution2d(img_gray,kernal_canny,1,2))\n",
        "\n",
        "kernel_size = 21\n",
        "sigma = math.sqrt(kernel_size)\n",
        "gaussian_kernel = cv.getGaussianKernel(kernel_size, sigma)\n",
        "gauss_kernel = gaussian_kernel @ gaussian_kernel.transpose()\n",
        "\n",
        "cv2_imshow(convolution2d(img_gray,gauss_kernel,1,2))"
      ],
      "execution_count": 20,
      "outputs": [
        {
          "output_type": "error",
          "ename": "AttributeError",
          "evalue": "ignored",
          "traceback": [
            "\u001b[0;31m---------------------------------------------------------------------------\u001b[0m",
            "\u001b[0;31mAttributeError\u001b[0m                            Traceback (most recent call last)",
            "\u001b[0;32m<ipython-input-20-214401c914a9>\u001b[0m in \u001b[0;36m<module>\u001b[0;34m()\u001b[0m\n\u001b[0;32m----> 1\u001b[0;31m \u001b[0mcv2_imshow\u001b[0m\u001b[0;34m(\u001b[0m\u001b[0mconvolution2d\u001b[0m\u001b[0;34m(\u001b[0m\u001b[0mimg_gray\u001b[0m\u001b[0;34m,\u001b[0m\u001b[0mkernal_emboss\u001b[0m\u001b[0;34m,\u001b[0m\u001b[0;36m1\u001b[0m\u001b[0;34m,\u001b[0m\u001b[0;36m2\u001b[0m\u001b[0;34m)\u001b[0m\u001b[0;34m)\u001b[0m\u001b[0;34m\u001b[0m\u001b[0;34m\u001b[0m\u001b[0m\n\u001b[0m\u001b[1;32m      2\u001b[0m \u001b[0mcv2_imshow\u001b[0m\u001b[0;34m(\u001b[0m\u001b[0mconvolution2d\u001b[0m\u001b[0;34m(\u001b[0m\u001b[0mimg_gray\u001b[0m\u001b[0;34m,\u001b[0m\u001b[0mkernal_sobel\u001b[0m\u001b[0;34m,\u001b[0m\u001b[0;36m1\u001b[0m\u001b[0;34m,\u001b[0m\u001b[0;36m2\u001b[0m\u001b[0;34m)\u001b[0m\u001b[0;34m)\u001b[0m\u001b[0;34m\u001b[0m\u001b[0;34m\u001b[0m\u001b[0m\n\u001b[1;32m      3\u001b[0m \u001b[0mcv2_imshow\u001b[0m\u001b[0;34m(\u001b[0m\u001b[0mconvolution2d\u001b[0m\u001b[0;34m(\u001b[0m\u001b[0mimg_gray\u001b[0m\u001b[0;34m,\u001b[0m\u001b[0mkernal_canny\u001b[0m\u001b[0;34m,\u001b[0m\u001b[0;36m1\u001b[0m\u001b[0;34m,\u001b[0m\u001b[0;36m2\u001b[0m\u001b[0;34m)\u001b[0m\u001b[0;34m)\u001b[0m\u001b[0;34m\u001b[0m\u001b[0;34m\u001b[0m\u001b[0m\n\u001b[1;32m      4\u001b[0m \u001b[0;34m\u001b[0m\u001b[0m\n\u001b[1;32m      5\u001b[0m \u001b[0mkernel_size\u001b[0m \u001b[0;34m=\u001b[0m \u001b[0;36m21\u001b[0m\u001b[0;34m\u001b[0m\u001b[0;34m\u001b[0m\u001b[0m\n",
            "\u001b[0;32m/usr/local/lib/python3.7/dist-packages/google/colab/patches/__init__.py\u001b[0m in \u001b[0;36mcv2_imshow\u001b[0;34m(a)\u001b[0m\n\u001b[1;32m     20\u001b[0m       \u001b[0mimage\u001b[0m\u001b[0;34m.\u001b[0m\u001b[0;34m\u001b[0m\u001b[0;34m\u001b[0m\u001b[0m\n\u001b[1;32m     21\u001b[0m   \"\"\"\n\u001b[0;32m---> 22\u001b[0;31m   \u001b[0ma\u001b[0m \u001b[0;34m=\u001b[0m \u001b[0ma\u001b[0m\u001b[0;34m.\u001b[0m\u001b[0mclip\u001b[0m\u001b[0;34m(\u001b[0m\u001b[0;36m0\u001b[0m\u001b[0;34m,\u001b[0m \u001b[0;36m255\u001b[0m\u001b[0;34m)\u001b[0m\u001b[0;34m.\u001b[0m\u001b[0mastype\u001b[0m\u001b[0;34m(\u001b[0m\u001b[0;34m'uint8'\u001b[0m\u001b[0;34m)\u001b[0m\u001b[0;34m\u001b[0m\u001b[0;34m\u001b[0m\u001b[0m\n\u001b[0m\u001b[1;32m     23\u001b[0m   \u001b[0;31m# cv2 stores colors as BGR; convert to RGB\u001b[0m\u001b[0;34m\u001b[0m\u001b[0;34m\u001b[0m\u001b[0;34m\u001b[0m\u001b[0m\n\u001b[1;32m     24\u001b[0m   \u001b[0;32mif\u001b[0m \u001b[0ma\u001b[0m\u001b[0;34m.\u001b[0m\u001b[0mndim\u001b[0m \u001b[0;34m==\u001b[0m \u001b[0;36m3\u001b[0m\u001b[0;34m:\u001b[0m\u001b[0;34m\u001b[0m\u001b[0;34m\u001b[0m\u001b[0m\n",
            "\u001b[0;31mAttributeError\u001b[0m: 'NoneType' object has no attribute 'clip'"
          ]
        }
      ]
    }
  ]
}